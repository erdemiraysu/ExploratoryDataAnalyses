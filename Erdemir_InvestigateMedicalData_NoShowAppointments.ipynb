{
 "cells": [
  {
   "cell_type": "markdown",
   "metadata": {},
   "source": [
    "# Project: No-Show Medical Appointments Data Investigation by Aysu Erdemir\n",
    "\n",
    "## Table of Contents\n",
    "<ul>\n",
    "<li><a href=\"#intro\">Introduction</a></li>\n",
    "<li><a href=\"#wrangling\">Data Wrangling</a></li>\n",
    "<li><a href=\"#eda\">Exploratory Data Analysis</a></li>\n",
    "<li><a href=\"#conclusions\">Conclusions</a></li>\n",
    "</ul>"
   ]
  },
  {
   "cell_type": "markdown",
   "metadata": {},
   "source": [
    "<a id='intro'></a>\n",
    "## Introduction\n",
    "In this project we wil be analyzing the data associated with 100k medical appointments in Brazil to see if whether people show up for their appoitnments or not is associated with any other factors coded in the data. In particular we will be interested in finding trends among the patients who do not show up for their appointment and how they are different from the patients who show up for their appointments. "
   ]
  },
  {
   "cell_type": "code",
   "execution_count": 2,
   "metadata": {},
   "outputs": [],
   "source": [
    "import pandas as pd\n",
    "import numpy as np\n",
    "import matplotlib.pyplot as plt\n",
    "import seaborn as sns\n",
    "%matplotlib inline"
   ]
  },
  {
   "cell_type": "markdown",
   "metadata": {},
   "source": [
    "<a id='wrangling'></a>\n",
    "## Data Wrangling\n",
    "\n",
    "### General Properties"
   ]
  },
  {
   "cell_type": "code",
   "execution_count": 3,
   "metadata": {},
   "outputs": [
    {
     "data": {
      "text/html": [
       "<div>\n",
       "<style scoped>\n",
       "    .dataframe tbody tr th:only-of-type {\n",
       "        vertical-align: middle;\n",
       "    }\n",
       "\n",
       "    .dataframe tbody tr th {\n",
       "        vertical-align: top;\n",
       "    }\n",
       "\n",
       "    .dataframe thead th {\n",
       "        text-align: right;\n",
       "    }\n",
       "</style>\n",
       "<table border=\"1\" class=\"dataframe\">\n",
       "  <thead>\n",
       "    <tr style=\"text-align: right;\">\n",
       "      <th></th>\n",
       "      <th>PatientId</th>\n",
       "      <th>AppointmentID</th>\n",
       "      <th>Gender</th>\n",
       "      <th>ScheduledDay</th>\n",
       "      <th>AppointmentDay</th>\n",
       "      <th>Age</th>\n",
       "      <th>Neighbourhood</th>\n",
       "      <th>Scholarship</th>\n",
       "      <th>Hipertension</th>\n",
       "      <th>Diabetes</th>\n",
       "      <th>Alcoholism</th>\n",
       "      <th>Handcap</th>\n",
       "      <th>SMS_received</th>\n",
       "      <th>No-show</th>\n",
       "    </tr>\n",
       "  </thead>\n",
       "  <tbody>\n",
       "    <tr>\n",
       "      <th>0</th>\n",
       "      <td>2.987250e+13</td>\n",
       "      <td>5642903</td>\n",
       "      <td>F</td>\n",
       "      <td>2016-04-29T18:38:08Z</td>\n",
       "      <td>2016-04-29T00:00:00Z</td>\n",
       "      <td>62</td>\n",
       "      <td>JARDIM DA PENHA</td>\n",
       "      <td>0</td>\n",
       "      <td>1</td>\n",
       "      <td>0</td>\n",
       "      <td>0</td>\n",
       "      <td>0</td>\n",
       "      <td>0</td>\n",
       "      <td>No</td>\n",
       "    </tr>\n",
       "    <tr>\n",
       "      <th>1</th>\n",
       "      <td>5.589978e+14</td>\n",
       "      <td>5642503</td>\n",
       "      <td>M</td>\n",
       "      <td>2016-04-29T16:08:27Z</td>\n",
       "      <td>2016-04-29T00:00:00Z</td>\n",
       "      <td>56</td>\n",
       "      <td>JARDIM DA PENHA</td>\n",
       "      <td>0</td>\n",
       "      <td>0</td>\n",
       "      <td>0</td>\n",
       "      <td>0</td>\n",
       "      <td>0</td>\n",
       "      <td>0</td>\n",
       "      <td>No</td>\n",
       "    </tr>\n",
       "    <tr>\n",
       "      <th>2</th>\n",
       "      <td>4.262962e+12</td>\n",
       "      <td>5642549</td>\n",
       "      <td>F</td>\n",
       "      <td>2016-04-29T16:19:04Z</td>\n",
       "      <td>2016-04-29T00:00:00Z</td>\n",
       "      <td>62</td>\n",
       "      <td>MATA DA PRAIA</td>\n",
       "      <td>0</td>\n",
       "      <td>0</td>\n",
       "      <td>0</td>\n",
       "      <td>0</td>\n",
       "      <td>0</td>\n",
       "      <td>0</td>\n",
       "      <td>No</td>\n",
       "    </tr>\n",
       "    <tr>\n",
       "      <th>3</th>\n",
       "      <td>8.679512e+11</td>\n",
       "      <td>5642828</td>\n",
       "      <td>F</td>\n",
       "      <td>2016-04-29T17:29:31Z</td>\n",
       "      <td>2016-04-29T00:00:00Z</td>\n",
       "      <td>8</td>\n",
       "      <td>PONTAL DE CAMBURI</td>\n",
       "      <td>0</td>\n",
       "      <td>0</td>\n",
       "      <td>0</td>\n",
       "      <td>0</td>\n",
       "      <td>0</td>\n",
       "      <td>0</td>\n",
       "      <td>No</td>\n",
       "    </tr>\n",
       "    <tr>\n",
       "      <th>4</th>\n",
       "      <td>8.841186e+12</td>\n",
       "      <td>5642494</td>\n",
       "      <td>F</td>\n",
       "      <td>2016-04-29T16:07:23Z</td>\n",
       "      <td>2016-04-29T00:00:00Z</td>\n",
       "      <td>56</td>\n",
       "      <td>JARDIM DA PENHA</td>\n",
       "      <td>0</td>\n",
       "      <td>1</td>\n",
       "      <td>1</td>\n",
       "      <td>0</td>\n",
       "      <td>0</td>\n",
       "      <td>0</td>\n",
       "      <td>No</td>\n",
       "    </tr>\n",
       "  </tbody>\n",
       "</table>\n",
       "</div>"
      ],
      "text/plain": [
       "      PatientId  AppointmentID Gender          ScheduledDay  \\\n",
       "0  2.987250e+13        5642903      F  2016-04-29T18:38:08Z   \n",
       "1  5.589978e+14        5642503      M  2016-04-29T16:08:27Z   \n",
       "2  4.262962e+12        5642549      F  2016-04-29T16:19:04Z   \n",
       "3  8.679512e+11        5642828      F  2016-04-29T17:29:31Z   \n",
       "4  8.841186e+12        5642494      F  2016-04-29T16:07:23Z   \n",
       "\n",
       "         AppointmentDay  Age      Neighbourhood  Scholarship  Hipertension  \\\n",
       "0  2016-04-29T00:00:00Z   62    JARDIM DA PENHA            0             1   \n",
       "1  2016-04-29T00:00:00Z   56    JARDIM DA PENHA            0             0   \n",
       "2  2016-04-29T00:00:00Z   62      MATA DA PRAIA            0             0   \n",
       "3  2016-04-29T00:00:00Z    8  PONTAL DE CAMBURI            0             0   \n",
       "4  2016-04-29T00:00:00Z   56    JARDIM DA PENHA            0             1   \n",
       "\n",
       "   Diabetes  Alcoholism  Handcap  SMS_received No-show  \n",
       "0         0           0        0             0      No  \n",
       "1         0           0        0             0      No  \n",
       "2         0           0        0             0      No  \n",
       "3         0           0        0             0      No  \n",
       "4         1           0        0             0      No  "
      ]
     },
     "execution_count": 3,
     "metadata": {},
     "output_type": "execute_result"
    }
   ],
   "source": [
    "df = pd.read_csv('noshowappointments-kagglev2-may-2016.csv')\n",
    "df.head()"
   ]
  },
  {
   "cell_type": "code",
   "execution_count": 4,
   "metadata": {},
   "outputs": [
    {
     "data": {
      "text/plain": [
       "(110527, 14)"
      ]
     },
     "execution_count": 4,
     "metadata": {},
     "output_type": "execute_result"
    }
   ],
   "source": [
    "df.shape\n",
    "# Data has 110527 rows (patients) and 14 variables. "
   ]
  },
  {
   "cell_type": "code",
   "execution_count": 5,
   "metadata": {},
   "outputs": [],
   "source": [
    "# Let's convert all column names into lowercase for consistency\n",
    "df.rename(columns = lambda x:x.strip().lower(), inplace=True)"
   ]
  },
  {
   "cell_type": "code",
   "execution_count": 77,
   "metadata": {},
   "outputs": [],
   "source": [
    "# Let's correct the typos and remove _ and - for consistency among the column names. \n",
    "df.rename(columns = {'hipertension':'hypertension','handcap':'handicap','sms_received':'smsreceived','no-show':'noshow'}, inplace=True)"
   ]
  },
  {
   "cell_type": "code",
   "execution_count": 78,
   "metadata": {},
   "outputs": [
    {
     "data": {
      "text/plain": [
       "patientid         float64\n",
       "appointmentid       int64\n",
       "gender             object\n",
       "scheduledday       object\n",
       "appointmentday     object\n",
       "age                 int64\n",
       "neighbourhood      object\n",
       "scholarship         int64\n",
       "hypertension        int64\n",
       "diabetes            int64\n",
       "alcoholism          int64\n",
       "handicap            int64\n",
       "smsreceived         int64\n",
       "noshow             object\n",
       "dtype: object"
      ]
     },
     "execution_count": 78,
     "metadata": {},
     "output_type": "execute_result"
    }
   ],
   "source": [
    "# Let's see if there is anything wrong about the data types. \n",
    "df.dtypes"
   ]
  },
  {
   "cell_type": "code",
   "execution_count": 79,
   "metadata": {},
   "outputs": [],
   "source": [
    "# Let's change scheduledDay and AppointmentDay (string) into the \"date format\". \n",
    "df['scheduledday'] = pd.to_datetime(df['scheduledday'])\n",
    "df['appointmentday'] = pd.to_datetime(df['appointmentday'])"
   ]
  },
  {
   "cell_type": "code",
   "execution_count": 80,
   "metadata": {},
   "outputs": [
    {
     "data": {
      "text/plain": [
       "patientid                     float64\n",
       "appointmentid                   int64\n",
       "gender                         object\n",
       "scheduledday      datetime64[ns, UTC]\n",
       "appointmentday    datetime64[ns, UTC]\n",
       "age                             int64\n",
       "neighbourhood                  object\n",
       "scholarship                     int64\n",
       "hypertension                    int64\n",
       "diabetes                        int64\n",
       "alcoholism                      int64\n",
       "handicap                        int64\n",
       "smsreceived                     int64\n",
       "noshow                         object\n",
       "dtype: object"
      ]
     },
     "execution_count": 80,
     "metadata": {},
     "output_type": "execute_result"
    }
   ],
   "source": [
    "# let's make sure the changes are made\n",
    "df.dtypes"
   ]
  },
  {
   "cell_type": "code",
   "execution_count": 81,
   "metadata": {},
   "outputs": [
    {
     "data": {
      "text/plain": [
       "patientid          62299\n",
       "appointmentid     110527\n",
       "gender                 2\n",
       "scheduledday      103549\n",
       "appointmentday        27\n",
       "age                  104\n",
       "neighbourhood         81\n",
       "scholarship            2\n",
       "hypertension           2\n",
       "diabetes               2\n",
       "alcoholism             2\n",
       "handicap               5\n",
       "smsreceived            2\n",
       "noshow                 2\n",
       "dtype: int64"
      ]
     },
     "execution_count": 81,
     "metadata": {},
     "output_type": "execute_result"
    }
   ],
   "source": [
    "# Let's see how many unique values there are for each variable. \n",
    "df.nunique()"
   ]
  },
  {
   "cell_type": "markdown",
   "metadata": {},
   "source": [
    "Based on this output we can  see that many of the variables are binary (0,1) having two values for the absence of presence of the trait - except handicap which has 5 values. Let's explore handicap in more detail. \n",
    "\n",
    "Based on this output there are 62299 unique patient IDs but 110527 unique appt IDs. One interesting inference we can make is that there are more appointments than there are patients, possibly indicating that many patients had multiple appointments at different times. Let'e explore this in more detail. "
   ]
  },
  {
   "cell_type": "code",
   "execution_count": 82,
   "metadata": {},
   "outputs": [
    {
     "data": {
      "text/plain": [
       "0    108286\n",
       "1      2042\n",
       "2       183\n",
       "3        13\n",
       "4         3\n",
       "Name: handicap, dtype: int64"
      ]
     },
     "execution_count": 82,
     "metadata": {},
     "output_type": "execute_result"
    }
   ],
   "source": [
    "# The documentation mentions that the variable \"handicap\" should be binary but exploring it in more detail, \n",
    "# it seems like it takes values between 0-5, possibly depending on the severity of the handicap. We will keep it as is.\n",
    "df['handicap'].value_counts()"
   ]
  },
  {
   "cell_type": "code",
   "execution_count": 83,
   "metadata": {},
   "outputs": [],
   "source": [
    "# change the patientid column into string to improve readability. \n",
    "df['patientid']= df['patientid'].astype(str)"
   ]
  },
  {
   "cell_type": "code",
   "execution_count": 84,
   "metadata": {},
   "outputs": [
    {
     "data": {
      "text/plain": [
       "0         False\n",
       "1         False\n",
       "2         False\n",
       "3         False\n",
       "4         False\n",
       "          ...  \n",
       "110522     True\n",
       "110523     True\n",
       "110524    False\n",
       "110525     True\n",
       "110526     True\n",
       "Name: patientid, Length: 110527, dtype: bool"
      ]
     },
     "execution_count": 84,
     "metadata": {},
     "output_type": "execute_result"
    }
   ],
   "source": [
    "# Let's see how many duplicates there are\n",
    "df['patientid'].duplicated()\n",
    "# For example the last two patients are a duplicate"
   ]
  },
  {
   "cell_type": "code",
   "execution_count": 85,
   "metadata": {},
   "outputs": [
    {
     "data": {
      "text/html": [
       "<div>\n",
       "<style scoped>\n",
       "    .dataframe tbody tr th:only-of-type {\n",
       "        vertical-align: middle;\n",
       "    }\n",
       "\n",
       "    .dataframe tbody tr th {\n",
       "        vertical-align: top;\n",
       "    }\n",
       "\n",
       "    .dataframe thead th {\n",
       "        text-align: right;\n",
       "    }\n",
       "</style>\n",
       "<table border=\"1\" class=\"dataframe\">\n",
       "  <thead>\n",
       "    <tr style=\"text-align: right;\">\n",
       "      <th></th>\n",
       "      <th>patientid</th>\n",
       "      <th>appointmentid</th>\n",
       "      <th>gender</th>\n",
       "      <th>scheduledday</th>\n",
       "      <th>appointmentday</th>\n",
       "      <th>age</th>\n",
       "      <th>neighbourhood</th>\n",
       "      <th>scholarship</th>\n",
       "      <th>hypertension</th>\n",
       "      <th>diabetes</th>\n",
       "      <th>alcoholism</th>\n",
       "      <th>handicap</th>\n",
       "      <th>smsreceived</th>\n",
       "      <th>noshow</th>\n",
       "    </tr>\n",
       "  </thead>\n",
       "  <tbody>\n",
       "    <tr>\n",
       "      <th>110525</th>\n",
       "      <td>92134931435557.0</td>\n",
       "      <td>5630323</td>\n",
       "      <td>F</td>\n",
       "      <td>2016-04-27 15:09:23+00:00</td>\n",
       "      <td>2016-06-07 00:00:00+00:00</td>\n",
       "      <td>38</td>\n",
       "      <td>MARIA ORTIZ</td>\n",
       "      <td>0</td>\n",
       "      <td>0</td>\n",
       "      <td>0</td>\n",
       "      <td>0</td>\n",
       "      <td>0</td>\n",
       "      <td>1</td>\n",
       "      <td>No</td>\n",
       "    </tr>\n",
       "    <tr>\n",
       "      <th>110526</th>\n",
       "      <td>377511518121127.0</td>\n",
       "      <td>5629448</td>\n",
       "      <td>F</td>\n",
       "      <td>2016-04-27 13:30:56+00:00</td>\n",
       "      <td>2016-06-07 00:00:00+00:00</td>\n",
       "      <td>54</td>\n",
       "      <td>MARIA ORTIZ</td>\n",
       "      <td>0</td>\n",
       "      <td>0</td>\n",
       "      <td>0</td>\n",
       "      <td>0</td>\n",
       "      <td>0</td>\n",
       "      <td>1</td>\n",
       "      <td>No</td>\n",
       "    </tr>\n",
       "  </tbody>\n",
       "</table>\n",
       "</div>"
      ],
      "text/plain": [
       "                patientid  appointmentid gender              scheduledday  \\\n",
       "110525   92134931435557.0        5630323      F 2016-04-27 15:09:23+00:00   \n",
       "110526  377511518121127.0        5629448      F 2016-04-27 13:30:56+00:00   \n",
       "\n",
       "                  appointmentday  age neighbourhood  scholarship  \\\n",
       "110525 2016-06-07 00:00:00+00:00   38   MARIA ORTIZ            0   \n",
       "110526 2016-06-07 00:00:00+00:00   54   MARIA ORTIZ            0   \n",
       "\n",
       "        hypertension  diabetes  alcoholism  handicap  smsreceived noshow  \n",
       "110525             0         0           0         0            1     No  \n",
       "110526             0         0           0         0            1     No  "
      ]
     },
     "execution_count": 85,
     "metadata": {},
     "output_type": "execute_result"
    }
   ],
   "source": [
    "# finding the patientid for the last two rows\n",
    "df.tail(2)"
   ]
  },
  {
   "cell_type": "code",
   "execution_count": 86,
   "metadata": {},
   "outputs": [
    {
     "data": {
      "text/html": [
       "<div>\n",
       "<style scoped>\n",
       "    .dataframe tbody tr th:only-of-type {\n",
       "        vertical-align: middle;\n",
       "    }\n",
       "\n",
       "    .dataframe tbody tr th {\n",
       "        vertical-align: top;\n",
       "    }\n",
       "\n",
       "    .dataframe thead th {\n",
       "        text-align: right;\n",
       "    }\n",
       "</style>\n",
       "<table border=\"1\" class=\"dataframe\">\n",
       "  <thead>\n",
       "    <tr style=\"text-align: right;\">\n",
       "      <th></th>\n",
       "      <th>patientid</th>\n",
       "      <th>appointmentid</th>\n",
       "      <th>gender</th>\n",
       "      <th>scheduledday</th>\n",
       "      <th>appointmentday</th>\n",
       "      <th>age</th>\n",
       "      <th>neighbourhood</th>\n",
       "      <th>scholarship</th>\n",
       "      <th>hypertension</th>\n",
       "      <th>diabetes</th>\n",
       "      <th>alcoholism</th>\n",
       "      <th>handicap</th>\n",
       "      <th>smsreceived</th>\n",
       "      <th>noshow</th>\n",
       "    </tr>\n",
       "  </thead>\n",
       "  <tbody>\n",
       "    <tr>\n",
       "      <th>41009</th>\n",
       "      <td>377511518121127.0</td>\n",
       "      <td>5538529</td>\n",
       "      <td>F</td>\n",
       "      <td>2016-04-01 12:38:13+00:00</td>\n",
       "      <td>2016-05-04 00:00:00+00:00</td>\n",
       "      <td>54</td>\n",
       "      <td>MARIA ORTIZ</td>\n",
       "      <td>0</td>\n",
       "      <td>0</td>\n",
       "      <td>0</td>\n",
       "      <td>0</td>\n",
       "      <td>0</td>\n",
       "      <td>1</td>\n",
       "      <td>No</td>\n",
       "    </tr>\n",
       "    <tr>\n",
       "      <th>110526</th>\n",
       "      <td>377511518121127.0</td>\n",
       "      <td>5629448</td>\n",
       "      <td>F</td>\n",
       "      <td>2016-04-27 13:30:56+00:00</td>\n",
       "      <td>2016-06-07 00:00:00+00:00</td>\n",
       "      <td>54</td>\n",
       "      <td>MARIA ORTIZ</td>\n",
       "      <td>0</td>\n",
       "      <td>0</td>\n",
       "      <td>0</td>\n",
       "      <td>0</td>\n",
       "      <td>0</td>\n",
       "      <td>1</td>\n",
       "      <td>No</td>\n",
       "    </tr>\n",
       "  </tbody>\n",
       "</table>\n",
       "</div>"
      ],
      "text/plain": [
       "                patientid  appointmentid gender              scheduledday  \\\n",
       "41009   377511518121127.0        5538529      F 2016-04-01 12:38:13+00:00   \n",
       "110526  377511518121127.0        5629448      F 2016-04-27 13:30:56+00:00   \n",
       "\n",
       "                  appointmentday  age neighbourhood  scholarship  \\\n",
       "41009  2016-05-04 00:00:00+00:00   54   MARIA ORTIZ            0   \n",
       "110526 2016-06-07 00:00:00+00:00   54   MARIA ORTIZ            0   \n",
       "\n",
       "        hypertension  diabetes  alcoholism  handicap  smsreceived noshow  \n",
       "41009              0         0           0         0            1     No  \n",
       "110526             0         0           0         0            1     No  "
      ]
     },
     "execution_count": 86,
     "metadata": {},
     "output_type": "execute_result"
    }
   ],
   "source": [
    "df.query('patientid==\"377511518121127.0\"')\n",
    "# this patient had 2 different appointments."
   ]
  },
  {
   "cell_type": "code",
   "execution_count": 87,
   "metadata": {},
   "outputs": [
    {
     "data": {
      "text/html": [
       "<div>\n",
       "<style scoped>\n",
       "    .dataframe tbody tr th:only-of-type {\n",
       "        vertical-align: middle;\n",
       "    }\n",
       "\n",
       "    .dataframe tbody tr th {\n",
       "        vertical-align: top;\n",
       "    }\n",
       "\n",
       "    .dataframe thead th {\n",
       "        text-align: right;\n",
       "    }\n",
       "</style>\n",
       "<table border=\"1\" class=\"dataframe\">\n",
       "  <thead>\n",
       "    <tr style=\"text-align: right;\">\n",
       "      <th></th>\n",
       "      <th>patientid</th>\n",
       "      <th>appointmentid</th>\n",
       "      <th>gender</th>\n",
       "      <th>scheduledday</th>\n",
       "      <th>appointmentday</th>\n",
       "      <th>age</th>\n",
       "      <th>neighbourhood</th>\n",
       "      <th>scholarship</th>\n",
       "      <th>hypertension</th>\n",
       "      <th>diabetes</th>\n",
       "      <th>alcoholism</th>\n",
       "      <th>handicap</th>\n",
       "      <th>smsreceived</th>\n",
       "      <th>noshow</th>\n",
       "    </tr>\n",
       "  </thead>\n",
       "  <tbody>\n",
       "    <tr>\n",
       "      <th>915</th>\n",
       "      <td>3596266328735.0</td>\n",
       "      <td>5637984</td>\n",
       "      <td>F</td>\n",
       "      <td>2016-04-29 07:35:40+00:00</td>\n",
       "      <td>2016-04-29 00:00:00+00:00</td>\n",
       "      <td>51</td>\n",
       "      <td>MARIA ORTIZ</td>\n",
       "      <td>0</td>\n",
       "      <td>0</td>\n",
       "      <td>0</td>\n",
       "      <td>0</td>\n",
       "      <td>0</td>\n",
       "      <td>0</td>\n",
       "      <td>No</td>\n",
       "    </tr>\n",
       "    <tr>\n",
       "      <th>60707</th>\n",
       "      <td>3596266328735.0</td>\n",
       "      <td>5558973</td>\n",
       "      <td>F</td>\n",
       "      <td>2016-04-08 07:13:33+00:00</td>\n",
       "      <td>2016-05-02 00:00:00+00:00</td>\n",
       "      <td>51</td>\n",
       "      <td>MARIA ORTIZ</td>\n",
       "      <td>0</td>\n",
       "      <td>0</td>\n",
       "      <td>0</td>\n",
       "      <td>0</td>\n",
       "      <td>0</td>\n",
       "      <td>0</td>\n",
       "      <td>Yes</td>\n",
       "    </tr>\n",
       "    <tr>\n",
       "      <th>98678</th>\n",
       "      <td>3596266328735.0</td>\n",
       "      <td>5662056</td>\n",
       "      <td>F</td>\n",
       "      <td>2016-05-05 08:03:27+00:00</td>\n",
       "      <td>2016-06-03 00:00:00+00:00</td>\n",
       "      <td>51</td>\n",
       "      <td>MARIA ORTIZ</td>\n",
       "      <td>0</td>\n",
       "      <td>0</td>\n",
       "      <td>0</td>\n",
       "      <td>0</td>\n",
       "      <td>0</td>\n",
       "      <td>1</td>\n",
       "      <td>No</td>\n",
       "    </tr>\n",
       "    <tr>\n",
       "      <th>110523</th>\n",
       "      <td>3596266328735.0</td>\n",
       "      <td>5650093</td>\n",
       "      <td>F</td>\n",
       "      <td>2016-05-03 07:27:33+00:00</td>\n",
       "      <td>2016-06-07 00:00:00+00:00</td>\n",
       "      <td>51</td>\n",
       "      <td>MARIA ORTIZ</td>\n",
       "      <td>0</td>\n",
       "      <td>0</td>\n",
       "      <td>0</td>\n",
       "      <td>0</td>\n",
       "      <td>0</td>\n",
       "      <td>1</td>\n",
       "      <td>No</td>\n",
       "    </tr>\n",
       "  </tbody>\n",
       "</table>\n",
       "</div>"
      ],
      "text/plain": [
       "              patientid  appointmentid gender              scheduledday  \\\n",
       "915     3596266328735.0        5637984      F 2016-04-29 07:35:40+00:00   \n",
       "60707   3596266328735.0        5558973      F 2016-04-08 07:13:33+00:00   \n",
       "98678   3596266328735.0        5662056      F 2016-05-05 08:03:27+00:00   \n",
       "110523  3596266328735.0        5650093      F 2016-05-03 07:27:33+00:00   \n",
       "\n",
       "                  appointmentday  age neighbourhood  scholarship  \\\n",
       "915    2016-04-29 00:00:00+00:00   51   MARIA ORTIZ            0   \n",
       "60707  2016-05-02 00:00:00+00:00   51   MARIA ORTIZ            0   \n",
       "98678  2016-06-03 00:00:00+00:00   51   MARIA ORTIZ            0   \n",
       "110523 2016-06-07 00:00:00+00:00   51   MARIA ORTIZ            0   \n",
       "\n",
       "        hypertension  diabetes  alcoholism  handicap  smsreceived noshow  \n",
       "915                0         0           0         0            0     No  \n",
       "60707              0         0           0         0            0    Yes  \n",
       "98678              0         0           0         0            1     No  \n",
       "110523             0         0           0         0            1     No  "
      ]
     },
     "execution_count": 87,
     "metadata": {},
     "output_type": "execute_result"
    }
   ],
   "source": [
    "df.query('patientid==\"3596266328735.0\"')\n",
    "# this patient had 4 different appointments. "
   ]
  },
  {
   "cell_type": "markdown",
   "metadata": {},
   "source": [
    "### SIDE NOTE:\n",
    "It seems like there are many REPEAT visits from the same patients. Ideally we should have used only 1 data point from each patient, because it would violate the assumption of the independence of data. However, for the time being  I will ignore this since we will mainly focus on the variables such as SMSreceived or time variables which seem to be different for each seperate row. Ideally only one data point from each patient should have been used when exploring the effect of gender, age or any other health related variable on show/noshow."
   ]
  },
  {
   "cell_type": "code",
   "execution_count": 88,
   "metadata": {},
   "outputs": [],
   "source": [
    "# Let's drop PatientID and AppointmentID since these are very specific to each patient. \n",
    "df.drop(['patientid', 'appointmentid'], axis =1, inplace=True)"
   ]
  },
  {
   "cell_type": "code",
   "execution_count": 89,
   "metadata": {},
   "outputs": [
    {
     "data": {
      "text/html": [
       "<div>\n",
       "<style scoped>\n",
       "    .dataframe tbody tr th:only-of-type {\n",
       "        vertical-align: middle;\n",
       "    }\n",
       "\n",
       "    .dataframe tbody tr th {\n",
       "        vertical-align: top;\n",
       "    }\n",
       "\n",
       "    .dataframe thead th {\n",
       "        text-align: right;\n",
       "    }\n",
       "</style>\n",
       "<table border=\"1\" class=\"dataframe\">\n",
       "  <thead>\n",
       "    <tr style=\"text-align: right;\">\n",
       "      <th></th>\n",
       "      <th>age</th>\n",
       "      <th>scholarship</th>\n",
       "      <th>hypertension</th>\n",
       "      <th>diabetes</th>\n",
       "      <th>alcoholism</th>\n",
       "      <th>handicap</th>\n",
       "      <th>smsreceived</th>\n",
       "    </tr>\n",
       "  </thead>\n",
       "  <tbody>\n",
       "    <tr>\n",
       "      <th>count</th>\n",
       "      <td>110527.000000</td>\n",
       "      <td>110527.000000</td>\n",
       "      <td>110527.000000</td>\n",
       "      <td>110527.000000</td>\n",
       "      <td>110527.000000</td>\n",
       "      <td>110527.000000</td>\n",
       "      <td>110527.000000</td>\n",
       "    </tr>\n",
       "    <tr>\n",
       "      <th>mean</th>\n",
       "      <td>37.088874</td>\n",
       "      <td>0.098266</td>\n",
       "      <td>0.197246</td>\n",
       "      <td>0.071865</td>\n",
       "      <td>0.030400</td>\n",
       "      <td>0.022248</td>\n",
       "      <td>0.321026</td>\n",
       "    </tr>\n",
       "    <tr>\n",
       "      <th>std</th>\n",
       "      <td>23.110205</td>\n",
       "      <td>0.297675</td>\n",
       "      <td>0.397921</td>\n",
       "      <td>0.258265</td>\n",
       "      <td>0.171686</td>\n",
       "      <td>0.161543</td>\n",
       "      <td>0.466873</td>\n",
       "    </tr>\n",
       "    <tr>\n",
       "      <th>min</th>\n",
       "      <td>-1.000000</td>\n",
       "      <td>0.000000</td>\n",
       "      <td>0.000000</td>\n",
       "      <td>0.000000</td>\n",
       "      <td>0.000000</td>\n",
       "      <td>0.000000</td>\n",
       "      <td>0.000000</td>\n",
       "    </tr>\n",
       "    <tr>\n",
       "      <th>25%</th>\n",
       "      <td>18.000000</td>\n",
       "      <td>0.000000</td>\n",
       "      <td>0.000000</td>\n",
       "      <td>0.000000</td>\n",
       "      <td>0.000000</td>\n",
       "      <td>0.000000</td>\n",
       "      <td>0.000000</td>\n",
       "    </tr>\n",
       "    <tr>\n",
       "      <th>50%</th>\n",
       "      <td>37.000000</td>\n",
       "      <td>0.000000</td>\n",
       "      <td>0.000000</td>\n",
       "      <td>0.000000</td>\n",
       "      <td>0.000000</td>\n",
       "      <td>0.000000</td>\n",
       "      <td>0.000000</td>\n",
       "    </tr>\n",
       "    <tr>\n",
       "      <th>75%</th>\n",
       "      <td>55.000000</td>\n",
       "      <td>0.000000</td>\n",
       "      <td>0.000000</td>\n",
       "      <td>0.000000</td>\n",
       "      <td>0.000000</td>\n",
       "      <td>0.000000</td>\n",
       "      <td>1.000000</td>\n",
       "    </tr>\n",
       "    <tr>\n",
       "      <th>max</th>\n",
       "      <td>115.000000</td>\n",
       "      <td>1.000000</td>\n",
       "      <td>1.000000</td>\n",
       "      <td>1.000000</td>\n",
       "      <td>1.000000</td>\n",
       "      <td>4.000000</td>\n",
       "      <td>1.000000</td>\n",
       "    </tr>\n",
       "  </tbody>\n",
       "</table>\n",
       "</div>"
      ],
      "text/plain": [
       "                 age    scholarship   hypertension       diabetes  \\\n",
       "count  110527.000000  110527.000000  110527.000000  110527.000000   \n",
       "mean       37.088874       0.098266       0.197246       0.071865   \n",
       "std        23.110205       0.297675       0.397921       0.258265   \n",
       "min        -1.000000       0.000000       0.000000       0.000000   \n",
       "25%        18.000000       0.000000       0.000000       0.000000   \n",
       "50%        37.000000       0.000000       0.000000       0.000000   \n",
       "75%        55.000000       0.000000       0.000000       0.000000   \n",
       "max       115.000000       1.000000       1.000000       1.000000   \n",
       "\n",
       "          alcoholism       handicap    smsreceived  \n",
       "count  110527.000000  110527.000000  110527.000000  \n",
       "mean        0.030400       0.022248       0.321026  \n",
       "std         0.171686       0.161543       0.466873  \n",
       "min         0.000000       0.000000       0.000000  \n",
       "25%         0.000000       0.000000       0.000000  \n",
       "50%         0.000000       0.000000       0.000000  \n",
       "75%         0.000000       0.000000       1.000000  \n",
       "max         1.000000       4.000000       1.000000  "
      ]
     },
     "execution_count": 89,
     "metadata": {},
     "output_type": "execute_result"
    }
   ],
   "source": [
    "# Let's explore some more:\n",
    "df.describe()\n",
    "# There is something wrong with Age, it cannot have a value of -1. "
   ]
  },
  {
   "cell_type": "code",
   "execution_count": 90,
   "metadata": {},
   "outputs": [
    {
     "data": {
      "text/plain": [
       " 0      3539\n",
       " 1      2273\n",
       " 52     1746\n",
       " 49     1652\n",
       " 53     1651\n",
       "        ... \n",
       " 115       5\n",
       " 100       4\n",
       " 102       2\n",
       " 99        1\n",
       "-1         1\n",
       "Name: age, Length: 104, dtype: int64"
      ]
     },
     "execution_count": 90,
     "metadata": {},
     "output_type": "execute_result"
    }
   ],
   "source": [
    "df['age'].value_counts()\n",
    "# there is only one data point with age -1. "
   ]
  },
  {
   "cell_type": "code",
   "execution_count": 91,
   "metadata": {},
   "outputs": [
    {
     "data": {
      "text/html": [
       "<div>\n",
       "<style scoped>\n",
       "    .dataframe tbody tr th:only-of-type {\n",
       "        vertical-align: middle;\n",
       "    }\n",
       "\n",
       "    .dataframe tbody tr th {\n",
       "        vertical-align: top;\n",
       "    }\n",
       "\n",
       "    .dataframe thead th {\n",
       "        text-align: right;\n",
       "    }\n",
       "</style>\n",
       "<table border=\"1\" class=\"dataframe\">\n",
       "  <thead>\n",
       "    <tr style=\"text-align: right;\">\n",
       "      <th></th>\n",
       "      <th>gender</th>\n",
       "      <th>scheduledday</th>\n",
       "      <th>appointmentday</th>\n",
       "      <th>age</th>\n",
       "      <th>neighbourhood</th>\n",
       "      <th>scholarship</th>\n",
       "      <th>hypertension</th>\n",
       "      <th>diabetes</th>\n",
       "      <th>alcoholism</th>\n",
       "      <th>handicap</th>\n",
       "      <th>smsreceived</th>\n",
       "      <th>noshow</th>\n",
       "    </tr>\n",
       "  </thead>\n",
       "  <tbody>\n",
       "    <tr>\n",
       "      <th>99832</th>\n",
       "      <td>F</td>\n",
       "      <td>2016-06-06 08:58:13+00:00</td>\n",
       "      <td>2016-06-06 00:00:00+00:00</td>\n",
       "      <td>-1</td>\n",
       "      <td>ROMÃO</td>\n",
       "      <td>0</td>\n",
       "      <td>0</td>\n",
       "      <td>0</td>\n",
       "      <td>0</td>\n",
       "      <td>0</td>\n",
       "      <td>0</td>\n",
       "      <td>No</td>\n",
       "    </tr>\n",
       "  </tbody>\n",
       "</table>\n",
       "</div>"
      ],
      "text/plain": [
       "      gender              scheduledday            appointmentday  age  \\\n",
       "99832      F 2016-06-06 08:58:13+00:00 2016-06-06 00:00:00+00:00   -1   \n",
       "\n",
       "      neighbourhood  scholarship  hypertension  diabetes  alcoholism  \\\n",
       "99832         ROMÃO            0             0         0           0   \n",
       "\n",
       "       handicap  smsreceived noshow  \n",
       "99832         0            0     No  "
      ]
     },
     "execution_count": 91,
     "metadata": {},
     "output_type": "execute_result"
    }
   ],
   "source": [
    "df.query('age == -1')"
   ]
  },
  {
   "cell_type": "code",
   "execution_count": 92,
   "metadata": {},
   "outputs": [],
   "source": [
    "# remove the row with the index number 99832 (age= -1)\n",
    "df = df.drop(99832)"
   ]
  },
  {
   "cell_type": "code",
   "execution_count": 93,
   "metadata": {},
   "outputs": [
    {
     "data": {
      "text/plain": [
       "(110526, 12)"
      ]
     },
     "execution_count": 93,
     "metadata": {},
     "output_type": "execute_result"
    }
   ],
   "source": [
    "df.shape"
   ]
  },
  {
   "cell_type": "code",
   "execution_count": 94,
   "metadata": {},
   "outputs": [
    {
     "name": "stdout",
     "output_type": "stream",
     "text": [
      "<class 'pandas.core.frame.DataFrame'>\n",
      "Int64Index: 110526 entries, 0 to 110526\n",
      "Data columns (total 12 columns):\n",
      " #   Column          Non-Null Count   Dtype              \n",
      "---  ------          --------------   -----              \n",
      " 0   gender          110526 non-null  object             \n",
      " 1   scheduledday    110526 non-null  datetime64[ns, UTC]\n",
      " 2   appointmentday  110526 non-null  datetime64[ns, UTC]\n",
      " 3   age             110526 non-null  int64              \n",
      " 4   neighbourhood   110526 non-null  object             \n",
      " 5   scholarship     110526 non-null  int64              \n",
      " 6   hypertension    110526 non-null  int64              \n",
      " 7   diabetes        110526 non-null  int64              \n",
      " 8   alcoholism      110526 non-null  int64              \n",
      " 9   handicap        110526 non-null  int64              \n",
      " 10  smsreceived     110526 non-null  int64              \n",
      " 11  noshow          110526 non-null  object             \n",
      "dtypes: datetime64[ns, UTC](2), int64(7), object(3)\n",
      "memory usage: 11.0+ MB\n"
     ]
    }
   ],
   "source": [
    "df.info()\n",
    "# No null values. "
   ]
  },
  {
   "cell_type": "code",
   "execution_count": 95,
   "metadata": {},
   "outputs": [
    {
     "data": {
      "text/plain": [
       "gender            0\n",
       "scheduledday      0\n",
       "appointmentday    0\n",
       "age               0\n",
       "neighbourhood     0\n",
       "scholarship       0\n",
       "hypertension      0\n",
       "diabetes          0\n",
       "alcoholism        0\n",
       "handicap          0\n",
       "smsreceived       0\n",
       "noshow            0\n",
       "dtype: int64"
      ]
     },
     "execution_count": 95,
     "metadata": {},
     "output_type": "execute_result"
    }
   ],
   "source": [
    "# confirming there are there no null values.\n",
    "df.isnull().sum()"
   ]
  },
  {
   "cell_type": "code",
   "execution_count": 96,
   "metadata": {},
   "outputs": [],
   "source": [
    "# Let's change 'gender' and 'noshow' data formats (str) into binary (int) for ease of analysis. "
   ]
  },
  {
   "cell_type": "code",
   "execution_count": 97,
   "metadata": {},
   "outputs": [],
   "source": [
    "# For the gender column, change M and F, to 1 and 0 for clarity and ease with future visualizations\n",
    "df.loc[df['gender'] == 'M', ['gender']] = 1\n",
    "df.loc[df['gender'] == 'F', ['gender']] = 0"
   ]
  },
  {
   "cell_type": "code",
   "execution_count": 98,
   "metadata": {},
   "outputs": [],
   "source": [
    "# convert string into integer (binary)\n",
    "df.gender= df.gender.astype(int) "
   ]
  },
  {
   "cell_type": "code",
   "execution_count": 99,
   "metadata": {},
   "outputs": [],
   "source": [
    "# For the noshow column, change Yes and No to 1 and 0 for clarity and ease with future visualizations\n",
    "# Based ont this a person with 1 with be identified as a noshow, a person with 0 will be identified as a show. \n",
    "df.loc[df['noshow'] == 'Yes', ['noshow']] = 1\n",
    "df.loc[df['noshow'] == 'No', ['noshow']] = 0"
   ]
  },
  {
   "cell_type": "code",
   "execution_count": 100,
   "metadata": {},
   "outputs": [],
   "source": [
    "# convert string into integer (binary)\n",
    "df['noshow'] = df['noshow'].astype(int) "
   ]
  },
  {
   "cell_type": "code",
   "execution_count": 101,
   "metadata": {},
   "outputs": [
    {
     "data": {
      "text/plain": [
       "(0         0\n",
       " 1         1\n",
       " 2         0\n",
       " 3         0\n",
       " 4         0\n",
       "          ..\n",
       " 110522    0\n",
       " 110523    0\n",
       " 110524    0\n",
       " 110525    0\n",
       " 110526    0\n",
       " Name: gender, Length: 110526, dtype: int64,\n",
       " 0         0\n",
       " 1         0\n",
       " 2         0\n",
       " 3         0\n",
       " 4         0\n",
       "          ..\n",
       " 110522    0\n",
       " 110523    0\n",
       " 110524    0\n",
       " 110525    0\n",
       " 110526    0\n",
       " Name: noshow, Length: 110526, dtype: int64)"
      ]
     },
     "execution_count": 101,
     "metadata": {},
     "output_type": "execute_result"
    }
   ],
   "source": [
    "# makes sure changes are made\n",
    "df['gender'], df['noshow']"
   ]
  },
  {
   "cell_type": "code",
   "execution_count": 102,
   "metadata": {},
   "outputs": [
    {
     "data": {
      "text/html": [
       "<div>\n",
       "<style scoped>\n",
       "    .dataframe tbody tr th:only-of-type {\n",
       "        vertical-align: middle;\n",
       "    }\n",
       "\n",
       "    .dataframe tbody tr th {\n",
       "        vertical-align: top;\n",
       "    }\n",
       "\n",
       "    .dataframe thead th {\n",
       "        text-align: right;\n",
       "    }\n",
       "</style>\n",
       "<table border=\"1\" class=\"dataframe\">\n",
       "  <thead>\n",
       "    <tr style=\"text-align: right;\">\n",
       "      <th></th>\n",
       "      <th>gender</th>\n",
       "      <th>scheduledday</th>\n",
       "      <th>appointmentday</th>\n",
       "      <th>age</th>\n",
       "      <th>neighbourhood</th>\n",
       "      <th>scholarship</th>\n",
       "      <th>hypertension</th>\n",
       "      <th>diabetes</th>\n",
       "      <th>alcoholism</th>\n",
       "      <th>handicap</th>\n",
       "      <th>smsreceived</th>\n",
       "      <th>noshow</th>\n",
       "    </tr>\n",
       "  </thead>\n",
       "  <tbody>\n",
       "    <tr>\n",
       "      <th>0</th>\n",
       "      <td>0</td>\n",
       "      <td>2016-04-29 18:38:08+00:00</td>\n",
       "      <td>2016-04-29 00:00:00+00:00</td>\n",
       "      <td>62</td>\n",
       "      <td>JARDIM DA PENHA</td>\n",
       "      <td>0</td>\n",
       "      <td>1</td>\n",
       "      <td>0</td>\n",
       "      <td>0</td>\n",
       "      <td>0</td>\n",
       "      <td>0</td>\n",
       "      <td>0</td>\n",
       "    </tr>\n",
       "    <tr>\n",
       "      <th>1</th>\n",
       "      <td>1</td>\n",
       "      <td>2016-04-29 16:08:27+00:00</td>\n",
       "      <td>2016-04-29 00:00:00+00:00</td>\n",
       "      <td>56</td>\n",
       "      <td>JARDIM DA PENHA</td>\n",
       "      <td>0</td>\n",
       "      <td>0</td>\n",
       "      <td>0</td>\n",
       "      <td>0</td>\n",
       "      <td>0</td>\n",
       "      <td>0</td>\n",
       "      <td>0</td>\n",
       "    </tr>\n",
       "    <tr>\n",
       "      <th>2</th>\n",
       "      <td>0</td>\n",
       "      <td>2016-04-29 16:19:04+00:00</td>\n",
       "      <td>2016-04-29 00:00:00+00:00</td>\n",
       "      <td>62</td>\n",
       "      <td>MATA DA PRAIA</td>\n",
       "      <td>0</td>\n",
       "      <td>0</td>\n",
       "      <td>0</td>\n",
       "      <td>0</td>\n",
       "      <td>0</td>\n",
       "      <td>0</td>\n",
       "      <td>0</td>\n",
       "    </tr>\n",
       "    <tr>\n",
       "      <th>3</th>\n",
       "      <td>0</td>\n",
       "      <td>2016-04-29 17:29:31+00:00</td>\n",
       "      <td>2016-04-29 00:00:00+00:00</td>\n",
       "      <td>8</td>\n",
       "      <td>PONTAL DE CAMBURI</td>\n",
       "      <td>0</td>\n",
       "      <td>0</td>\n",
       "      <td>0</td>\n",
       "      <td>0</td>\n",
       "      <td>0</td>\n",
       "      <td>0</td>\n",
       "      <td>0</td>\n",
       "    </tr>\n",
       "    <tr>\n",
       "      <th>4</th>\n",
       "      <td>0</td>\n",
       "      <td>2016-04-29 16:07:23+00:00</td>\n",
       "      <td>2016-04-29 00:00:00+00:00</td>\n",
       "      <td>56</td>\n",
       "      <td>JARDIM DA PENHA</td>\n",
       "      <td>0</td>\n",
       "      <td>1</td>\n",
       "      <td>1</td>\n",
       "      <td>0</td>\n",
       "      <td>0</td>\n",
       "      <td>0</td>\n",
       "      <td>0</td>\n",
       "    </tr>\n",
       "    <tr>\n",
       "      <th>5</th>\n",
       "      <td>0</td>\n",
       "      <td>2016-04-27 08:36:51+00:00</td>\n",
       "      <td>2016-04-29 00:00:00+00:00</td>\n",
       "      <td>76</td>\n",
       "      <td>REPÚBLICA</td>\n",
       "      <td>0</td>\n",
       "      <td>1</td>\n",
       "      <td>0</td>\n",
       "      <td>0</td>\n",
       "      <td>0</td>\n",
       "      <td>0</td>\n",
       "      <td>0</td>\n",
       "    </tr>\n",
       "    <tr>\n",
       "      <th>6</th>\n",
       "      <td>0</td>\n",
       "      <td>2016-04-27 15:05:12+00:00</td>\n",
       "      <td>2016-04-29 00:00:00+00:00</td>\n",
       "      <td>23</td>\n",
       "      <td>GOIABEIRAS</td>\n",
       "      <td>0</td>\n",
       "      <td>0</td>\n",
       "      <td>0</td>\n",
       "      <td>0</td>\n",
       "      <td>0</td>\n",
       "      <td>0</td>\n",
       "      <td>1</td>\n",
       "    </tr>\n",
       "    <tr>\n",
       "      <th>7</th>\n",
       "      <td>0</td>\n",
       "      <td>2016-04-27 15:39:58+00:00</td>\n",
       "      <td>2016-04-29 00:00:00+00:00</td>\n",
       "      <td>39</td>\n",
       "      <td>GOIABEIRAS</td>\n",
       "      <td>0</td>\n",
       "      <td>0</td>\n",
       "      <td>0</td>\n",
       "      <td>0</td>\n",
       "      <td>0</td>\n",
       "      <td>0</td>\n",
       "      <td>1</td>\n",
       "    </tr>\n",
       "    <tr>\n",
       "      <th>8</th>\n",
       "      <td>0</td>\n",
       "      <td>2016-04-29 08:02:16+00:00</td>\n",
       "      <td>2016-04-29 00:00:00+00:00</td>\n",
       "      <td>21</td>\n",
       "      <td>ANDORINHAS</td>\n",
       "      <td>0</td>\n",
       "      <td>0</td>\n",
       "      <td>0</td>\n",
       "      <td>0</td>\n",
       "      <td>0</td>\n",
       "      <td>0</td>\n",
       "      <td>0</td>\n",
       "    </tr>\n",
       "    <tr>\n",
       "      <th>9</th>\n",
       "      <td>0</td>\n",
       "      <td>2016-04-27 12:48:25+00:00</td>\n",
       "      <td>2016-04-29 00:00:00+00:00</td>\n",
       "      <td>19</td>\n",
       "      <td>CONQUISTA</td>\n",
       "      <td>0</td>\n",
       "      <td>0</td>\n",
       "      <td>0</td>\n",
       "      <td>0</td>\n",
       "      <td>0</td>\n",
       "      <td>0</td>\n",
       "      <td>0</td>\n",
       "    </tr>\n",
       "  </tbody>\n",
       "</table>\n",
       "</div>"
      ],
      "text/plain": [
       "   gender              scheduledday            appointmentday  age  \\\n",
       "0       0 2016-04-29 18:38:08+00:00 2016-04-29 00:00:00+00:00   62   \n",
       "1       1 2016-04-29 16:08:27+00:00 2016-04-29 00:00:00+00:00   56   \n",
       "2       0 2016-04-29 16:19:04+00:00 2016-04-29 00:00:00+00:00   62   \n",
       "3       0 2016-04-29 17:29:31+00:00 2016-04-29 00:00:00+00:00    8   \n",
       "4       0 2016-04-29 16:07:23+00:00 2016-04-29 00:00:00+00:00   56   \n",
       "5       0 2016-04-27 08:36:51+00:00 2016-04-29 00:00:00+00:00   76   \n",
       "6       0 2016-04-27 15:05:12+00:00 2016-04-29 00:00:00+00:00   23   \n",
       "7       0 2016-04-27 15:39:58+00:00 2016-04-29 00:00:00+00:00   39   \n",
       "8       0 2016-04-29 08:02:16+00:00 2016-04-29 00:00:00+00:00   21   \n",
       "9       0 2016-04-27 12:48:25+00:00 2016-04-29 00:00:00+00:00   19   \n",
       "\n",
       "       neighbourhood  scholarship  hypertension  diabetes  alcoholism  \\\n",
       "0    JARDIM DA PENHA            0             1         0           0   \n",
       "1    JARDIM DA PENHA            0             0         0           0   \n",
       "2      MATA DA PRAIA            0             0         0           0   \n",
       "3  PONTAL DE CAMBURI            0             0         0           0   \n",
       "4    JARDIM DA PENHA            0             1         1           0   \n",
       "5          REPÚBLICA            0             1         0           0   \n",
       "6         GOIABEIRAS            0             0         0           0   \n",
       "7         GOIABEIRAS            0             0         0           0   \n",
       "8         ANDORINHAS            0             0         0           0   \n",
       "9          CONQUISTA            0             0         0           0   \n",
       "\n",
       "   handicap  smsreceived  noshow  \n",
       "0         0            0       0  \n",
       "1         0            0       0  \n",
       "2         0            0       0  \n",
       "3         0            0       0  \n",
       "4         0            0       0  \n",
       "5         0            0       0  \n",
       "6         0            0       1  \n",
       "7         0            0       1  \n",
       "8         0            0       0  \n",
       "9         0            0       0  "
      ]
     },
     "execution_count": 102,
     "metadata": {},
     "output_type": "execute_result"
    }
   ],
   "source": [
    "df.head(10)"
   ]
  },
  {
   "cell_type": "markdown",
   "metadata": {},
   "source": [
    "We do not need appointmentday and scheduledday for our analysis, but let's calculate the difference between scheduled and appointment date since this might be an important indicator for show/noshow. One could expect that as the time between scheduled day and appointment day increases people would be more prone to miss their apppointment. "
   ]
  },
  {
   "cell_type": "code",
   "execution_count": 103,
   "metadata": {},
   "outputs": [
    {
     "data": {
      "text/plain": [
       "0        2016-04-29 00:00:00+00:00\n",
       "1        2016-04-29 00:00:00+00:00\n",
       "2        2016-04-29 00:00:00+00:00\n",
       "3        2016-04-29 00:00:00+00:00\n",
       "4        2016-04-29 00:00:00+00:00\n",
       "                    ...           \n",
       "110522   2016-06-07 00:00:00+00:00\n",
       "110523   2016-06-07 00:00:00+00:00\n",
       "110524   2016-06-07 00:00:00+00:00\n",
       "110525   2016-06-07 00:00:00+00:00\n",
       "110526   2016-06-07 00:00:00+00:00\n",
       "Name: appointmentday, Length: 110526, dtype: datetime64[ns, UTC]"
      ]
     },
     "execution_count": 103,
     "metadata": {},
     "output_type": "execute_result"
    }
   ],
   "source": [
    "# Let's check out the data format first\n",
    "df['appointmentday']\n",
    "# The date.time format has 0's only for the time segment. \n",
    "# Apparenty time information was not registered properly so let's remove them. "
   ]
  },
  {
   "cell_type": "code",
   "execution_count": 104,
   "metadata": {},
   "outputs": [
    {
     "data": {
      "text/plain": [
       "0        2016-04-29 18:38:08+00:00\n",
       "1        2016-04-29 16:08:27+00:00\n",
       "2        2016-04-29 16:19:04+00:00\n",
       "3        2016-04-29 17:29:31+00:00\n",
       "4        2016-04-29 16:07:23+00:00\n",
       "                    ...           \n",
       "110522   2016-05-03 09:15:35+00:00\n",
       "110523   2016-05-03 07:27:33+00:00\n",
       "110524   2016-04-27 16:03:52+00:00\n",
       "110525   2016-04-27 15:09:23+00:00\n",
       "110526   2016-04-27 13:30:56+00:00\n",
       "Name: scheduledday, Length: 110526, dtype: datetime64[ns, UTC]"
      ]
     },
     "execution_count": 104,
     "metadata": {},
     "output_type": "execute_result"
    }
   ],
   "source": [
    "df['scheduledday']\n",
    "# this one seems to have intact time information "
   ]
  },
  {
   "cell_type": "code",
   "execution_count": 105,
   "metadata": {},
   "outputs": [],
   "source": [
    "# Let's convert datetime to just \"date\" for both variables for consistency\n",
    "df['appointmentday']= pd.to_datetime(df['appointmentday']).dt.date \n",
    "df['scheduledday']= pd.to_datetime(df['scheduledday']).dt.date "
   ]
  },
  {
   "cell_type": "code",
   "execution_count": 106,
   "metadata": {},
   "outputs": [
    {
     "data": {
      "text/plain": [
       "(0         2016-04-29\n",
       " 1         2016-04-29\n",
       " 2         2016-04-29\n",
       " 3         2016-04-29\n",
       " 4         2016-04-29\n",
       "              ...    \n",
       " 110522    2016-06-07\n",
       " 110523    2016-06-07\n",
       " 110524    2016-06-07\n",
       " 110525    2016-06-07\n",
       " 110526    2016-06-07\n",
       " Name: appointmentday, Length: 110526, dtype: object,\n",
       " 0         2016-04-29\n",
       " 1         2016-04-29\n",
       " 2         2016-04-29\n",
       " 3         2016-04-29\n",
       " 4         2016-04-29\n",
       "              ...    \n",
       " 110522    2016-05-03\n",
       " 110523    2016-05-03\n",
       " 110524    2016-04-27\n",
       " 110525    2016-04-27\n",
       " 110526    2016-04-27\n",
       " Name: scheduledday, Length: 110526, dtype: object)"
      ]
     },
     "execution_count": 106,
     "metadata": {},
     "output_type": "execute_result"
    }
   ],
   "source": [
    "df['appointmentday'] , df['scheduledday']"
   ]
  },
  {
   "cell_type": "code",
   "execution_count": 107,
   "metadata": {},
   "outputs": [],
   "source": [
    "# Let's calculate the difference between scheduled and appointment date and create a new variable called \"timedifference\".\n",
    "df['timedifference']= (df['appointmentday']-df['scheduledday']).dt.days # we want the difference in \"days\" only. "
   ]
  },
  {
   "cell_type": "code",
   "execution_count": 108,
   "metadata": {},
   "outputs": [
    {
     "data": {
      "text/plain": [
       "count    110526.000000\n",
       "mean         10.183794\n",
       "std          15.255034\n",
       "min          -6.000000\n",
       "25%           0.000000\n",
       "50%           4.000000\n",
       "75%          15.000000\n",
       "max         179.000000\n",
       "Name: timedifference, dtype: float64"
      ]
     },
     "execution_count": 108,
     "metadata": {},
     "output_type": "execute_result"
    }
   ],
   "source": [
    "df['timedifference'].describe()\n",
    "# Seems like there are some negative values, which cannot be correct. "
   ]
  },
  {
   "cell_type": "code",
   "execution_count": 109,
   "metadata": {},
   "outputs": [
    {
     "data": {
      "text/html": [
       "<div>\n",
       "<style scoped>\n",
       "    .dataframe tbody tr th:only-of-type {\n",
       "        vertical-align: middle;\n",
       "    }\n",
       "\n",
       "    .dataframe tbody tr th {\n",
       "        vertical-align: top;\n",
       "    }\n",
       "\n",
       "    .dataframe thead th {\n",
       "        text-align: right;\n",
       "    }\n",
       "</style>\n",
       "<table border=\"1\" class=\"dataframe\">\n",
       "  <thead>\n",
       "    <tr style=\"text-align: right;\">\n",
       "      <th></th>\n",
       "      <th>gender</th>\n",
       "      <th>scheduledday</th>\n",
       "      <th>appointmentday</th>\n",
       "      <th>age</th>\n",
       "      <th>neighbourhood</th>\n",
       "      <th>scholarship</th>\n",
       "      <th>hypertension</th>\n",
       "      <th>diabetes</th>\n",
       "      <th>alcoholism</th>\n",
       "      <th>handicap</th>\n",
       "      <th>smsreceived</th>\n",
       "      <th>noshow</th>\n",
       "      <th>timedifference</th>\n",
       "    </tr>\n",
       "  </thead>\n",
       "  <tbody>\n",
       "    <tr>\n",
       "      <th>27033</th>\n",
       "      <td>1</td>\n",
       "      <td>2016-05-10</td>\n",
       "      <td>2016-05-09</td>\n",
       "      <td>38</td>\n",
       "      <td>RESISTÊNCIA</td>\n",
       "      <td>0</td>\n",
       "      <td>0</td>\n",
       "      <td>0</td>\n",
       "      <td>0</td>\n",
       "      <td>1</td>\n",
       "      <td>0</td>\n",
       "      <td>1</td>\n",
       "      <td>-1</td>\n",
       "    </tr>\n",
       "    <tr>\n",
       "      <th>55226</th>\n",
       "      <td>0</td>\n",
       "      <td>2016-05-18</td>\n",
       "      <td>2016-05-17</td>\n",
       "      <td>19</td>\n",
       "      <td>SANTO ANTÔNIO</td>\n",
       "      <td>0</td>\n",
       "      <td>0</td>\n",
       "      <td>0</td>\n",
       "      <td>0</td>\n",
       "      <td>1</td>\n",
       "      <td>0</td>\n",
       "      <td>1</td>\n",
       "      <td>-1</td>\n",
       "    </tr>\n",
       "    <tr>\n",
       "      <th>64175</th>\n",
       "      <td>0</td>\n",
       "      <td>2016-05-05</td>\n",
       "      <td>2016-05-04</td>\n",
       "      <td>22</td>\n",
       "      <td>CONSOLAÇÃO</td>\n",
       "      <td>0</td>\n",
       "      <td>0</td>\n",
       "      <td>0</td>\n",
       "      <td>0</td>\n",
       "      <td>0</td>\n",
       "      <td>0</td>\n",
       "      <td>1</td>\n",
       "      <td>-1</td>\n",
       "    </tr>\n",
       "    <tr>\n",
       "      <th>71533</th>\n",
       "      <td>0</td>\n",
       "      <td>2016-05-11</td>\n",
       "      <td>2016-05-05</td>\n",
       "      <td>81</td>\n",
       "      <td>SANTO ANTÔNIO</td>\n",
       "      <td>0</td>\n",
       "      <td>0</td>\n",
       "      <td>0</td>\n",
       "      <td>0</td>\n",
       "      <td>0</td>\n",
       "      <td>0</td>\n",
       "      <td>1</td>\n",
       "      <td>-6</td>\n",
       "    </tr>\n",
       "    <tr>\n",
       "      <th>72362</th>\n",
       "      <td>1</td>\n",
       "      <td>2016-05-04</td>\n",
       "      <td>2016-05-03</td>\n",
       "      <td>7</td>\n",
       "      <td>TABUAZEIRO</td>\n",
       "      <td>0</td>\n",
       "      <td>0</td>\n",
       "      <td>0</td>\n",
       "      <td>0</td>\n",
       "      <td>0</td>\n",
       "      <td>0</td>\n",
       "      <td>1</td>\n",
       "      <td>-1</td>\n",
       "    </tr>\n",
       "  </tbody>\n",
       "</table>\n",
       "</div>"
      ],
      "text/plain": [
       "       gender scheduledday appointmentday  age  neighbourhood  scholarship  \\\n",
       "27033       1   2016-05-10     2016-05-09   38    RESISTÊNCIA            0   \n",
       "55226       0   2016-05-18     2016-05-17   19  SANTO ANTÔNIO            0   \n",
       "64175       0   2016-05-05     2016-05-04   22     CONSOLAÇÃO            0   \n",
       "71533       0   2016-05-11     2016-05-05   81  SANTO ANTÔNIO            0   \n",
       "72362       1   2016-05-04     2016-05-03    7     TABUAZEIRO            0   \n",
       "\n",
       "       hypertension  diabetes  alcoholism  handicap  smsreceived  noshow  \\\n",
       "27033             0         0           0         1            0       1   \n",
       "55226             0         0           0         1            0       1   \n",
       "64175             0         0           0         0            0       1   \n",
       "71533             0         0           0         0            0       1   \n",
       "72362             0         0           0         0            0       1   \n",
       "\n",
       "       timedifference  \n",
       "27033              -1  \n",
       "55226              -1  \n",
       "64175              -1  \n",
       "71533              -6  \n",
       "72362              -1  "
      ]
     },
     "execution_count": 109,
     "metadata": {},
     "output_type": "execute_result"
    }
   ],
   "source": [
    "neg = df.query('timedifference < 0')\n",
    "neg\n",
    "# there are 5 rows with 'negative' values for the timedifference data. Let's remove those rows. "
   ]
  },
  {
   "cell_type": "code",
   "execution_count": 110,
   "metadata": {},
   "outputs": [],
   "source": [
    "# Drop the rows with negative values\n",
    "df.drop(neg.index, inplace=True)"
   ]
  },
  {
   "cell_type": "code",
   "execution_count": 111,
   "metadata": {},
   "outputs": [],
   "source": [
    "# Drop appointmentday and scheduledday since we do not need them any more\n",
    "df.drop(['appointmentday', 'scheduledday'], axis=1, inplace=True)"
   ]
  },
  {
   "cell_type": "code",
   "execution_count": 112,
   "metadata": {},
   "outputs": [
    {
     "data": {
      "text/plain": [
       "(110521, 11)"
      ]
     },
     "execution_count": 112,
     "metadata": {},
     "output_type": "execute_result"
    }
   ],
   "source": [
    "df.shape\n",
    "# We have removed 6 rows total. "
   ]
  },
  {
   "cell_type": "code",
   "execution_count": 113,
   "metadata": {},
   "outputs": [],
   "source": [
    "# create a clean copy of the data frame\n",
    "df1 = df.copy()"
   ]
  },
  {
   "cell_type": "code",
   "execution_count": 114,
   "metadata": {},
   "outputs": [
    {
     "data": {
      "image/png": "[encoded data removed]",
      "text/plain": [
       "<Figure size 1440x1080 with 12 Axes>"
      ]
     },
     "metadata": {
      "needs_background": "light"
     },
     "output_type": "display_data"
    }
   ],
   "source": [
    "# let's explore the variables by histograms to make some decisions about which varibables to use for the analysis.\n",
    "df1.hist(figsize=(20,15));\n"
   ]
  },
  {
   "cell_type": "markdown",
   "metadata": {},
   "source": [
    "Looking at the histograms we can see that:\n",
    " 1. Females who get doctor appointments are almost twice the number of the males. A particular gender might be more prone to miss appointments (e.g. male). \n",
    " 2. More children get doctor appointments than older people. A particular age range might be more prone to miss appointments.\n",
    " 3. The proportion of people with scholarship, hypertension, diabetes, alcoholism and handicap are quite low, so I will not focus on those variables for this project - although alcoholism could indicate noshow. \n",
    " 4. 1/3rd of the people did not receive SMS message, 2/3rd received SMS message, this might be an important factor for show/noshow. \n",
    " 5. More people show up to their appointments (about 80000 as oppposed to 20000 who did not show up), which would be expected. \n",
    " 6. Timedifference is right skewed indicating that for the majority of the people the time difference between their scheduled day and appt day would be small. But this variables could be an important factor for show/noshow. "
   ]
  },
  {
   "cell_type": "markdown",
   "metadata": {},
   "source": [
    "### Data Cleaning \n",
    "Clean Data has 110521 rows (patients) and 12 variables. \n",
    "\n",
    "Issues fixed:\n",
    "\n",
    "1. Variable names (columns) are fixed.\n",
    "2. Certain columns specific to the patient (Patient ID, Appointment ID) are dropped. \n",
    "3. A new varibale called 'timedifferecne\" (time difference between ScheduledDay and AppointmentDay) is created since it is a more meaningful measure than the ScheduledDay or AppointmentDay. The data types are changed from string to Datetime for these two variables and then the difference is converted to integer format to be able to use in computations. \n",
    "4. The rows containing an incorrect value for age (1) and timedifference (5) are removed from the data set. \n",
    "5. Data types for gender and noshow are also changed from object to intereger (binary) for ease of use during computations. "
   ]
  },
  {
   "cell_type": "markdown",
   "metadata": {},
   "source": [
    "<a id='eda'></a>\n",
    "## Exploratory Data Analysis\n",
    "\n",
    "### Research Question 1: What is the effect of the time difference between scheduled time and appointment time on Show/NoShow?"
   ]
  },
  {
   "cell_type": "code",
   "execution_count": 115,
   "metadata": {},
   "outputs": [
    {
     "data": {
      "image/png": "[encoded data removed]",
      "text/plain": [
       "<Figure size 432x288 with 1 Axes>"
      ]
     },
     "metadata": {
      "needs_background": "light"
     },
     "output_type": "display_data"
    }
   ],
   "source": [
    "df1['timedifference'].hist();"
   ]
  },
  {
   "cell_type": "code",
   "execution_count": 116,
   "metadata": {},
   "outputs": [
    {
     "data": {
      "image/png": "[encoded data removed]",
      "text/plain": [
       "<Figure size 720x504 with 1 Axes>"
      ]
     },
     "metadata": {
      "needs_background": "light"
     },
     "output_type": "display_data"
    }
   ],
   "source": [
    "# Plotting count of patient in relation to Time Difference and Show/NoShow\n",
    "\n",
    "bin_values = np.arange(start=0, stop=100, step=3) # since there was little data past 100, I will ignore those values on the graph\n",
    "hist1 = df1.groupby('noshow')['timedifference']; # grouped by noshow, exploring the numbers for the timedifference. \n",
    "\n",
    "hist1.plot(kind='hist', bins=bin_values, figsize=[10,7], alpha=.7, legend=True) ;\n",
    "plt.title('Time Difference by Show/NoShow Histogram', fontsize=16)\n",
    "plt.xlabel ('time difference', fontsize=14)\n",
    "plt.ylabel ('number of patients', fontsize=14)\n",
    "plt.xticks(fontsize=12)  \n",
    "plt.yticks(fontsize=12)\n",
    "plt.legend(labels=['Show', 'NoShow'],fontsize=14);\n"
   ]
  },
  {
   "cell_type": "markdown",
   "metadata": {},
   "source": [
    "Looking at the histogram it seems like the proportion of the people showing up for their apppointment are much higher when the time difference is smaller. This shows that if your appopintment is scheduled for a close by date you would be more likely \"not\" to miss it. One complication is that the total number of patients are also decreasing in size as the timedifference increases. However it still seems like the proportion of no show is relatively higher for the larger time differences compared to smaller time differences, suggesting that if your appointment is scheudled for a later date you would be more likely to miss it. "
   ]
  },
  {
   "cell_type": "code",
   "execution_count": 117,
   "metadata": {},
   "outputs": [
    {
     "data": {
      "text/html": [
       "<div>\n",
       "<style scoped>\n",
       "    .dataframe tbody tr th:only-of-type {\n",
       "        vertical-align: middle;\n",
       "    }\n",
       "\n",
       "    .dataframe tbody tr th {\n",
       "        vertical-align: top;\n",
       "    }\n",
       "\n",
       "    .dataframe thead th {\n",
       "        text-align: right;\n",
       "    }\n",
       "</style>\n",
       "<table border=\"1\" class=\"dataframe\">\n",
       "  <thead>\n",
       "    <tr style=\"text-align: right;\">\n",
       "      <th></th>\n",
       "      <th>count</th>\n",
       "      <th>mean</th>\n",
       "      <th>std</th>\n",
       "      <th>min</th>\n",
       "      <th>25%</th>\n",
       "      <th>50%</th>\n",
       "      <th>75%</th>\n",
       "      <th>max</th>\n",
       "    </tr>\n",
       "    <tr>\n",
       "      <th>timedifference</th>\n",
       "      <th></th>\n",
       "      <th></th>\n",
       "      <th></th>\n",
       "      <th></th>\n",
       "      <th></th>\n",
       "      <th></th>\n",
       "      <th></th>\n",
       "      <th></th>\n",
       "    </tr>\n",
       "  </thead>\n",
       "  <tbody>\n",
       "    <tr>\n",
       "      <th>0</th>\n",
       "      <td>38562.0</td>\n",
       "      <td>0.046471</td>\n",
       "      <td>0.210505</td>\n",
       "      <td>0.0</td>\n",
       "      <td>0.0</td>\n",
       "      <td>0.0</td>\n",
       "      <td>0.0</td>\n",
       "      <td>1.0</td>\n",
       "    </tr>\n",
       "    <tr>\n",
       "      <th>1</th>\n",
       "      <td>5213.0</td>\n",
       "      <td>0.213505</td>\n",
       "      <td>0.409820</td>\n",
       "      <td>0.0</td>\n",
       "      <td>0.0</td>\n",
       "      <td>0.0</td>\n",
       "      <td>0.0</td>\n",
       "      <td>1.0</td>\n",
       "    </tr>\n",
       "    <tr>\n",
       "      <th>2</th>\n",
       "      <td>6725.0</td>\n",
       "      <td>0.238216</td>\n",
       "      <td>0.426023</td>\n",
       "      <td>0.0</td>\n",
       "      <td>0.0</td>\n",
       "      <td>0.0</td>\n",
       "      <td>0.0</td>\n",
       "      <td>1.0</td>\n",
       "    </tr>\n",
       "    <tr>\n",
       "      <th>3</th>\n",
       "      <td>2737.0</td>\n",
       "      <td>0.235294</td>\n",
       "      <td>0.424260</td>\n",
       "      <td>0.0</td>\n",
       "      <td>0.0</td>\n",
       "      <td>0.0</td>\n",
       "      <td>0.0</td>\n",
       "      <td>1.0</td>\n",
       "    </tr>\n",
       "    <tr>\n",
       "      <th>4</th>\n",
       "      <td>5290.0</td>\n",
       "      <td>0.232703</td>\n",
       "      <td>0.422595</td>\n",
       "      <td>0.0</td>\n",
       "      <td>0.0</td>\n",
       "      <td>0.0</td>\n",
       "      <td>0.0</td>\n",
       "      <td>1.0</td>\n",
       "    </tr>\n",
       "    <tr>\n",
       "      <th>...</th>\n",
       "      <td>...</td>\n",
       "      <td>...</td>\n",
       "      <td>...</td>\n",
       "      <td>...</td>\n",
       "      <td>...</td>\n",
       "      <td>...</td>\n",
       "      <td>...</td>\n",
       "      <td>...</td>\n",
       "    </tr>\n",
       "    <tr>\n",
       "      <th>155</th>\n",
       "      <td>10.0</td>\n",
       "      <td>0.600000</td>\n",
       "      <td>0.516398</td>\n",
       "      <td>0.0</td>\n",
       "      <td>0.0</td>\n",
       "      <td>1.0</td>\n",
       "      <td>1.0</td>\n",
       "      <td>1.0</td>\n",
       "    </tr>\n",
       "    <tr>\n",
       "      <th>162</th>\n",
       "      <td>11.0</td>\n",
       "      <td>0.181818</td>\n",
       "      <td>0.404520</td>\n",
       "      <td>0.0</td>\n",
       "      <td>0.0</td>\n",
       "      <td>0.0</td>\n",
       "      <td>0.0</td>\n",
       "      <td>1.0</td>\n",
       "    </tr>\n",
       "    <tr>\n",
       "      <th>169</th>\n",
       "      <td>8.0</td>\n",
       "      <td>0.125000</td>\n",
       "      <td>0.353553</td>\n",
       "      <td>0.0</td>\n",
       "      <td>0.0</td>\n",
       "      <td>0.0</td>\n",
       "      <td>0.0</td>\n",
       "      <td>1.0</td>\n",
       "    </tr>\n",
       "    <tr>\n",
       "      <th>176</th>\n",
       "      <td>16.0</td>\n",
       "      <td>0.375000</td>\n",
       "      <td>0.500000</td>\n",
       "      <td>0.0</td>\n",
       "      <td>0.0</td>\n",
       "      <td>0.0</td>\n",
       "      <td>1.0</td>\n",
       "      <td>1.0</td>\n",
       "    </tr>\n",
       "    <tr>\n",
       "      <th>179</th>\n",
       "      <td>10.0</td>\n",
       "      <td>0.200000</td>\n",
       "      <td>0.421637</td>\n",
       "      <td>0.0</td>\n",
       "      <td>0.0</td>\n",
       "      <td>0.0</td>\n",
       "      <td>0.0</td>\n",
       "      <td>1.0</td>\n",
       "    </tr>\n",
       "  </tbody>\n",
       "</table>\n",
       "<p>129 rows × 8 columns</p>\n",
       "</div>"
      ],
      "text/plain": [
       "                  count      mean       std  min  25%  50%  75%  max\n",
       "timedifference                                                      \n",
       "0               38562.0  0.046471  0.210505  0.0  0.0  0.0  0.0  1.0\n",
       "1                5213.0  0.213505  0.409820  0.0  0.0  0.0  0.0  1.0\n",
       "2                6725.0  0.238216  0.426023  0.0  0.0  0.0  0.0  1.0\n",
       "3                2737.0  0.235294  0.424260  0.0  0.0  0.0  0.0  1.0\n",
       "4                5290.0  0.232703  0.422595  0.0  0.0  0.0  0.0  1.0\n",
       "...                 ...       ...       ...  ...  ...  ...  ...  ...\n",
       "155                10.0  0.600000  0.516398  0.0  0.0  1.0  1.0  1.0\n",
       "162                11.0  0.181818  0.404520  0.0  0.0  0.0  0.0  1.0\n",
       "169                 8.0  0.125000  0.353553  0.0  0.0  0.0  0.0  1.0\n",
       "176                16.0  0.375000  0.500000  0.0  0.0  0.0  1.0  1.0\n",
       "179                10.0  0.200000  0.421637  0.0  0.0  0.0  0.0  1.0\n",
       "\n",
       "[129 rows x 8 columns]"
      ]
     },
     "execution_count": 117,
     "metadata": {},
     "output_type": "execute_result"
    }
   ],
   "source": [
    "# let's look at the numbers again to have a better idea\n",
    "df1.groupby('timedifference')['noshow'].describe()"
   ]
  },
  {
   "cell_type": "markdown",
   "metadata": {},
   "source": [
    "Looking into descriptives we can also see that for the timedifference of 0-4 days the means for noshow are closer to 0 (0.046, 0.213, 0.238, 0.235 and 0.232) indicating more people 'show up' to their appointments. On the other hand for the timedifference of 155-179 days the means seem to be farther away from 0 (show) and closer to 1 (noshow) (0.600000 , 0.181818, 0.125000, 0.375000, 0.2000000), suggesting more people tend to not to show up. But one complication is that there is a higher variability among the means in this larger time difference range  - possibly due to the small sample size in this range. So let's explore this a bit more by parsing the timedifference column into three broad levels."
   ]
  },
  {
   "cell_type": "code",
   "execution_count": 118,
   "metadata": {},
   "outputs": [],
   "source": [
    "# I choose 0-7 days (1 week), 7-30 days (1 month) and 30-179 days (more than 1 month) as reasonable time intervals. \n",
    "bin_edges = [-1, 7, 30, 180]\n",
    "bin_names = ['0-7days','7-30days', '30-179days']\n",
    "df1['timeintervals'] = pd.cut(df1['timedifference'], bin_edges, labels=bin_names)"
   ]
  },
  {
   "cell_type": "code",
   "execution_count": 119,
   "metadata": {},
   "outputs": [
    {
     "data": {
      "text/plain": [
       "0            0-7days\n",
       "1            0-7days\n",
       "2            0-7days\n",
       "3            0-7days\n",
       "4            0-7days\n",
       "             ...    \n",
       "110522    30-179days\n",
       "110523    30-179days\n",
       "110524    30-179days\n",
       "110525    30-179days\n",
       "110526    30-179days\n",
       "Name: timeintervals, Length: 110521, dtype: category\n",
       "Categories (3, object): ['0-7days' < '7-30days' < '30-179days']"
      ]
     },
     "execution_count": 119,
     "metadata": {},
     "output_type": "execute_result"
    }
   ],
   "source": [
    "df1['timeintervals']"
   ]
  },
  {
   "cell_type": "code",
   "execution_count": 120,
   "metadata": {},
   "outputs": [
    {
     "name": "stdout",
     "output_type": "stream",
     "text": [
      "timeintervals\n",
      "0-7days       0.135186\n",
      "7-30days      0.317220\n",
      "30-179days    0.330025\n",
      "Name: noshow, dtype: float64\n"
     ]
    },
    {
     "data": {
      "image/png": "[encoded data removed]",
      "text/plain": [
       "<Figure size 432x288 with 1 Axes>"
      ]
     },
     "metadata": {
      "needs_background": "light"
     },
     "output_type": "display_data"
    }
   ],
   "source": [
    "# let's have a look at the means for noshow at three levels of timeinterval\n",
    "print(df1.groupby('timeintervals')['noshow'].mean())\n",
    "df1.groupby('timeintervals')['noshow'].mean().plot(kind='bar');\n",
    "plt.title('NoShow means at three levels of time interval', fontsize=16);\n",
    "plt.xlabel ('time intervals', fontsize=14)\n",
    "plt.ylabel ('noshow mean', fontsize=14)\n",
    "plt.xticks(fontsize=12);  \n",
    "plt.yticks(fontsize=12);"
   ]
  },
  {
   "cell_type": "markdown",
   "metadata": {},
   "source": [
    "This graph shows that the mean for noshow is lowest (0.135186) when the time interval is 0-7days - that is the patients are MORE likely to go for the appointment if the time interval is small.\n",
    "\n",
    "The means for noshow is highest (0.330025) when the  time interval is 30-179days - that is the patients are LESS likely show up for their appointment if more tnan 1 month has passed since they have been scheduled. \n",
    "\n",
    "The means for noshow is still high (0.317220) when the  time interval is 7-30days - that is the patients are still LESS likely show up for their appointment in this range compared to 0-7days range. This might suggest that possibly after around 1 week mark the likelihood for not showing up does not change much and it is still lower than 0-7 days. "
   ]
  },
  {
   "cell_type": "markdown",
   "metadata": {},
   "source": [
    "### Research Question 2 : What is the effect of receiving or not receiving a text message on Show/NoShow?"
   ]
  },
  {
   "cell_type": "code",
   "execution_count": 121,
   "metadata": {},
   "outputs": [
    {
     "name": "stdout",
     "output_type": "stream",
     "text": [
      "smsreceived  noshow\n",
      "0            0         62509\n",
      "             1         12530\n",
      "1            0         25698\n",
      "             1          9784\n",
      "Name: noshow, dtype: int64\n"
     ]
    },
    {
     "data": {
      "image/png": "[encoded data removed]",
      "text/plain": [
       "<Figure size 432x288 with 1 Axes>"
      ]
     },
     "metadata": {
      "needs_background": "light"
     },
     "output_type": "display_data"
    }
   ],
   "source": [
    "# Let's group by smsreceived and look at the value counts of showing up / not showing up.  \n",
    "print(df1.groupby('smsreceived')['noshow'].value_counts())\n",
    "df1.groupby('smsreceived')['noshow'].value_counts().plot(kind='bar');"
   ]
  },
  {
   "cell_type": "markdown",
   "metadata": {},
   "source": [
    "Based on this descriptive and graph it seems like among those who did not receive an SMS there is a much higher proportion of people who showed up (62509) compared to the people who did not show up (12530). On the other hand, for those who received an SMS, show up is 25698 compared to noshow 9784. The proportion of people who show up seems to be lower for those who received an SMS which is a bit counterintuitive. Let's explore this more with proportions. "
   ]
  },
  {
   "cell_type": "code",
   "execution_count": 122,
   "metadata": {},
   "outputs": [
    {
     "data": {
      "text/plain": [
       "smsreceived  noshow\n",
       "0            0         62509\n",
       "             1         12530\n",
       "1            0         25698\n",
       "             1          9784\n",
       "Name: noshow, dtype: int64"
      ]
     },
     "execution_count": 122,
     "metadata": {},
     "output_type": "execute_result"
    }
   ],
   "source": [
    "# get value counts for smsreceived based on show/noshow\n",
    "sms_counts = df1.groupby('smsreceived')['noshow'].value_counts()\n",
    "sms_counts"
   ]
  },
  {
   "cell_type": "code",
   "execution_count": 123,
   "metadata": {},
   "outputs": [
    {
     "data": {
      "text/plain": [
       "0    75039\n",
       "1    35482\n",
       "Name: smsreceived, dtype: int64"
      ]
     },
     "execution_count": 123,
     "metadata": {},
     "output_type": "execute_result"
    }
   ],
   "source": [
    "# get total counts for noshow\n",
    "total_counts = df1['smsreceived'].value_counts()\n",
    "total_counts"
   ]
  },
  {
   "cell_type": "code",
   "execution_count": 124,
   "metadata": {},
   "outputs": [],
   "source": [
    "# get proportions by dividing noshow counts to total counts\n",
    "SMS_proportions = sms_counts[1] / total_counts[1]  # proportion of those who showed up\n",
    "noSMS_proportions = sms_counts[0] / total_counts[0] # proportion of those who did not show up"
   ]
  },
  {
   "cell_type": "code",
   "execution_count": 125,
   "metadata": {},
   "outputs": [
    {
     "data": {
      "text/plain": [
       "(noshow\n",
       " 0    0.724255\n",
       " 1    0.275745\n",
       " Name: noshow, dtype: float64,\n",
       " noshow\n",
       " 0    0.83302\n",
       " 1    0.16698\n",
       " Name: noshow, dtype: float64)"
      ]
     },
     "execution_count": 125,
     "metadata": {},
     "output_type": "execute_result"
    }
   ],
   "source": [
    "SMS_proportions, noSMS_proportions"
   ]
  },
  {
   "cell_type": "code",
   "execution_count": 126,
   "metadata": {},
   "outputs": [
    {
     "data": {
      "image/png": "[encoded data removed]",
      "text/plain": [
       "<Figure size 432x288 with 1 Axes>"
      ]
     },
     "metadata": {
      "needs_background": "light"
     },
     "output_type": "display_data"
    }
   ],
   "source": [
    "# let's make a graph\n",
    "ind = np.arange(len(SMS_proportions)) \n",
    "width = 0.35 \n",
    "\n",
    "# plot bars\n",
    "blue_bars = plt.bar(ind, SMS_proportions, width, color='b', alpha=.7, label='SMS');\n",
    "red_bars = plt.bar(ind + width, noSMS_proportions, width, color='r', alpha=.7, label='no SMS');\n",
    "\n",
    "# title and labels\n",
    "plt.ylabel('Proportion of Patients',fontsize=14)\n",
    "plt.xlabel('Appointment',fontsize=14)\n",
    "plt.title('Proportion by SMS and Show/Noshow',fontsize=16)\n",
    "locations = ind + width / 2  # xtick locations\n",
    "labels = ['show', 'noshow']  # xtick labels\n",
    "plt.xticks(locations, labels, fontsize=12)\n",
    "plt.yticks(fontsize=12)\n",
    "plt.legend(fontsize=12);"
   ]
  },
  {
   "cell_type": "markdown",
   "metadata": {},
   "source": [
    "Among the patients who showed up, most of them did not receive an SMS, and among the patients who did NOT show up, most of them received an SMS. This is counterintuitive, because one would expect a text message to be helpful so that more people would remember and actually show up for their appointment. \n",
    "\n",
    "Maybe we see this pattern because the patients are more likely to receive a text message when they have a longer wait time between their scheduling and appointment day? Lets investigate this point."
   ]
  },
  {
   "cell_type": "code",
   "execution_count": 127,
   "metadata": {},
   "outputs": [
    {
     "data": {
      "image/png": "[encoded data removed]",
      "text/plain": [
       "<Figure size 720x504 with 1 Axes>"
      ]
     },
     "metadata": {
      "needs_background": "light"
     },
     "output_type": "display_data"
    }
   ],
   "source": [
    "# Plotting count of patient in relation to SMSreceived and Time Difference\n",
    "\n",
    "bin_values = np.arange(start=0, stop=100, step=5) # since there is little data past 100, i will ignore those on the graph\n",
    "hist1 = df1.groupby('smsreceived')['timedifference']; \n",
    "hist1.plot(kind='hist', bins=bin_values, figsize=[10,7], alpha=.6, legend=True) ;\n",
    "plt.title('Patient with relation to SMSreceived and Timespan', fontsize=16)\n",
    "plt.xlabel ('time difference', fontsize=14)\n",
    "plt.ylabel ('number of patients', fontsize=14)\n",
    "plt.xticks(fontsize=12)  \n",
    "plt.yticks(fontsize=12)\n",
    "plt.legend(labels=['No SMS', 'SMS'], fontsize=14);"
   ]
  },
  {
   "cell_type": "markdown",
   "metadata": {},
   "source": [
    "Based on this graph as the time difference is increasing, the proportion of those who received SMS also seems to be increasing. "
   ]
  },
  {
   "cell_type": "code",
   "execution_count": 128,
   "metadata": {},
   "outputs": [
    {
     "data": {
      "text/plain": [
       "smsreceived  timeintervals\n",
       "0            0-7days          59199\n",
       "             7-30days         11872\n",
       "             30-179days        3968\n",
       "1            0-7days          11548\n",
       "             7-30days         17524\n",
       "             30-179days        6410\n",
       "Name: timeintervals, dtype: int64"
      ]
     },
     "execution_count": 128,
     "metadata": {},
     "output_type": "execute_result"
    }
   ],
   "source": [
    "# let's also look at the timeinterval variable\n",
    "df1.groupby('smsreceived')['timeintervals'].value_counts().sort_index()"
   ]
  },
  {
   "cell_type": "markdown",
   "metadata": {},
   "source": [
    "As we expected, it turned out that those with a longer timeintervals between scheduled date and appointment date are more likely to receive an SMS. And those with the shortest timeinterval are less likely to receive an SMS. Therefore, there probably is a correlation between timedifference, SMSreceived and noshow. \n",
    "\n",
    "In the end, we have shown that time difference and SMSreceived have an effect on whether the patient would show up or not. Patients are more likely to show up when the time interval is smaller, and when they did not received an SMS message (those with short time interval are less likely to get a message as well). "
   ]
  },
  {
   "cell_type": "markdown",
   "metadata": {},
   "source": [
    "### Research Question 3 : What is the effect of gender on Show/NoShow?"
   ]
  },
  {
   "cell_type": "code",
   "execution_count": 129,
   "metadata": {},
   "outputs": [
    {
     "data": {
      "text/plain": [
       "gender  noshow\n",
       "0       0         57245\n",
       "        1         14591\n",
       "1       0         30962\n",
       "        1          7723\n",
       "Name: noshow, dtype: int64"
      ]
     },
     "execution_count": 129,
     "metadata": {},
     "output_type": "execute_result"
    }
   ],
   "source": [
    "# value counts of gender by noshow\n",
    "gender_counts = df1.groupby('gender')['noshow'].value_counts()\n",
    "gender_counts"
   ]
  },
  {
   "cell_type": "code",
   "execution_count": 130,
   "metadata": {},
   "outputs": [
    {
     "data": {
      "text/plain": [
       "0    71836\n",
       "1    38685\n",
       "Name: gender, dtype: int64"
      ]
     },
     "execution_count": 130,
     "metadata": {},
     "output_type": "execute_result"
    }
   ],
   "source": [
    "# total counts of each gender. \n",
    "total_counts = df1['gender'].value_counts()\n",
    "total_counts"
   ]
  },
  {
   "cell_type": "code",
   "execution_count": 131,
   "metadata": {},
   "outputs": [],
   "source": [
    "# get proportions by dividing gender counts by total.\n",
    "female_proportions = gender_counts[0] / total_counts[0]\n",
    "male_proportions = gender_counts[1] / total_counts[1]"
   ]
  },
  {
   "cell_type": "code",
   "execution_count": 132,
   "metadata": {},
   "outputs": [
    {
     "data": {
      "text/plain": [
       "(noshow\n",
       " 0    0.796885\n",
       " 1    0.203115\n",
       " Name: noshow, dtype: float64,\n",
       " noshow\n",
       " 0    0.796885\n",
       " 1    0.203115\n",
       " Name: noshow, dtype: float64)"
      ]
     },
     "execution_count": 132,
     "metadata": {},
     "output_type": "execute_result"
    }
   ],
   "source": [
    "female_proportions, female_proportions"
   ]
  },
  {
   "cell_type": "code",
   "execution_count": 133,
   "metadata": {},
   "outputs": [
    {
     "data": {
      "image/png": "[encoded data removed]",
      "text/plain": [
       "<Figure size 432x288 with 1 Axes>"
      ]
     },
     "metadata": {
      "needs_background": "light"
     },
     "output_type": "display_data"
    }
   ],
   "source": [
    "# plot bar for effect of gender\n",
    "ind = np.arange(len(female_proportions))  \n",
    "width = 0.35  \n",
    "\n",
    "red_bars = plt.bar(ind, female_proportions, width, color='r', alpha=.7, label='Female');\n",
    "white_bars = plt.bar(ind + width, male_proportions, width, color='b', alpha=.7, label='Male');\n",
    "\n",
    "plt.ylabel('Proportion of Patients',fontsize=14)\n",
    "plt.xlabel('Appointment',fontsize=14)\n",
    "plt.title('Proportion by Gender and Show/Noshow',fontsize=16)\n",
    "locations = ind + width / 2  \n",
    "labels = ['show', 'noshow']  \n",
    "plt.xticks(locations, labels, fontsize=12)\n",
    "plt.yticks(fontsize=12)\n",
    "plt.legend(fontsize=12);"
   ]
  },
  {
   "cell_type": "markdown",
   "metadata": {},
   "source": [
    "Based on this graph we can infer that it's about the same ratio of female to male for both show and noshow. So we can conclude that gender has no effect on noshow. The same proportion of males and females show up or do not show up for their appointments.  "
   ]
  },
  {
   "cell_type": "markdown",
   "metadata": {},
   "source": [
    "<a id='conclusions'></a>\n",
    "## Conclusions\n",
    "The exploratory analysis indicated that:\n",
    "\n",
    "1. The time difference between scheduling day and appointment day seems to have an effect on whether the patients would show up or not show up for their appointments. The larger the time interval, it is the less likely that they would show up.\n",
    "    \n",
    "2. Whether patients received an SMS or not seems to have an effect on whether the patients would shop up or not show up for their appointments. Among the patients who did NOT show up more received an SMS - that is if a patient has received an SMS, they appear to be less likely to show up. This is counterintuitive but it makes sense if those who did receive an SMS also had a longer wait time between the scheduling and appointment. \n",
    "\n",
    "3. The time difference between scheduling day and appointment day, and whether patients received an SMS seemed to be related. Those with longer wait times were more likely to receive an SMS, compared to those with shorter wait times, who were less likely to receive an SMS.\n",
    "\n",
    "4. Finally gender did not seem to have any effect on whether a patient would show up or not. \n",
    "\n",
    "Limitations:\n",
    "1. During the data wrangling period we have realized that many patients had repeated visit data. Ideally when exploring the effect of gender (or any other patient specific information) those repeat data should have been removed and only one data point per patient ID should have been kept (to avoid the assumption of independence). \n",
    "\n",
    "2. There were many other variables that were not analyzed such as alcoholism or neighbourhood, which could also be good predictors for show/noshow. "
   ]
  }
 ],
 "metadata": {
  "kernelspec": {
   "display_name": "Python 3",
   "language": "python",
   "name": "python3"
  },
  "language_info": {
   "codemirror_mode": {
    "name": "ipython",
    "version": 3
   },
   "file_extension": ".py",
   "mimetype": "text/x-python",
   "name": "python",
   "nbconvert_exporter": "python",
   "pygments_lexer": "ipython3",
   "version": "3.8.5"
  }
 },
 "nbformat": 4,
 "nbformat_minor": 2
}
